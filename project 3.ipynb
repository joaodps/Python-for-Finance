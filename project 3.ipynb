{
 "cells": [
  {
   "cell_type": "code",
   "execution_count": 1,
   "metadata": {},
   "outputs": [],
   "source": [
    "import numpy as np\n",
    "import pandas as pd\n",
    "import talib as ta\n",
    "import matplotlib.pyplot as plt\n",
    "from sklearn.linear_model import LogisticRegression\n",
    "from sklearn.linear_model import LinearRegression\n",
    "from sklearn import metrics\n",
    "from sklearn.model_selection import cross_val_score\n",
    "import pandas_datareader.data as web\n",
    "import datetime as dt\n",
    "start=dt.datetime(2000,1,1)\n",
    "end=dt.datetime(2019,11,11)\n",
    "df=web.DataReader('SPY','yahoo',start,end)"
   ]
  },
  {
   "cell_type": "code",
   "execution_count": 2,
   "metadata": {},
   "outputs": [],
   "source": [
    "df=df.resample('30D').mean()\n",
    "df=df.dropna()\n",
    "df=df.iloc[:,:5]"
   ]
  },
  {
   "cell_type": "code",
   "execution_count": 3,
   "metadata": {},
   "outputs": [
    {
     "data": {
      "text/html": [
       "<div>\n",
       "<style scoped>\n",
       "    .dataframe tbody tr th:only-of-type {\n",
       "        vertical-align: middle;\n",
       "    }\n",
       "\n",
       "    .dataframe tbody tr th {\n",
       "        vertical-align: top;\n",
       "    }\n",
       "\n",
       "    .dataframe thead th {\n",
       "        text-align: right;\n",
       "    }\n",
       "</style>\n",
       "<table border=\"1\" class=\"dataframe\">\n",
       "  <thead>\n",
       "    <tr style=\"text-align: right;\">\n",
       "      <th></th>\n",
       "      <th>High</th>\n",
       "      <th>Low</th>\n",
       "      <th>Open</th>\n",
       "      <th>Close</th>\n",
       "      <th>Volume</th>\n",
       "    </tr>\n",
       "    <tr>\n",
       "      <th>Date</th>\n",
       "      <th></th>\n",
       "      <th></th>\n",
       "      <th></th>\n",
       "      <th></th>\n",
       "      <th></th>\n",
       "    </tr>\n",
       "  </thead>\n",
       "  <tbody>\n",
       "    <tr>\n",
       "      <td>2000-01-03</td>\n",
       "      <td>144.331845</td>\n",
       "      <td>141.094494</td>\n",
       "      <td>143.164435</td>\n",
       "      <td>142.675595</td>\n",
       "      <td>7.866224e+06</td>\n",
       "    </tr>\n",
       "    <tr>\n",
       "      <td>2000-02-02</td>\n",
       "      <td>140.327381</td>\n",
       "      <td>137.750744</td>\n",
       "      <td>139.379464</td>\n",
       "      <td>138.925595</td>\n",
       "      <td>9.189838e+06</td>\n",
       "    </tr>\n",
       "    <tr>\n",
       "      <td>2000-03-03</td>\n",
       "      <td>146.686756</td>\n",
       "      <td>143.098214</td>\n",
       "      <td>144.543155</td>\n",
       "      <td>145.194196</td>\n",
       "      <td>1.110127e+07</td>\n",
       "    </tr>\n",
       "    <tr>\n",
       "      <td>2000-04-02</td>\n",
       "      <td>148.196094</td>\n",
       "      <td>144.177344</td>\n",
       "      <td>146.412500</td>\n",
       "      <td>146.373437</td>\n",
       "      <td>1.182872e+07</td>\n",
       "    </tr>\n",
       "    <tr>\n",
       "      <td>2000-05-02</td>\n",
       "      <td>143.365327</td>\n",
       "      <td>140.449405</td>\n",
       "      <td>142.178571</td>\n",
       "      <td>141.776042</td>\n",
       "      <td>7.318843e+06</td>\n",
       "    </tr>\n",
       "  </tbody>\n",
       "</table>\n",
       "</div>"
      ],
      "text/plain": [
       "                  High         Low        Open       Close        Volume\n",
       "Date                                                                    \n",
       "2000-01-03  144.331845  141.094494  143.164435  142.675595  7.866224e+06\n",
       "2000-02-02  140.327381  137.750744  139.379464  138.925595  9.189838e+06\n",
       "2000-03-03  146.686756  143.098214  144.543155  145.194196  1.110127e+07\n",
       "2000-04-02  148.196094  144.177344  146.412500  146.373437  1.182872e+07\n",
       "2000-05-02  143.365327  140.449405  142.178571  141.776042  7.318843e+06"
      ]
     },
     "execution_count": 3,
     "metadata": {},
     "output_type": "execute_result"
    }
   ],
   "source": [
    "df.head()"
   ]
  },
  {
   "cell_type": "code",
   "execution_count": 4,
   "metadata": {},
   "outputs": [
    {
     "name": "stderr",
     "output_type": "stream",
     "text": [
      "C:\\Users\\joaod\\Anaconda3\\lib\\site-packages\\pandas\\plotting\\_matplotlib\\converter.py:103: FutureWarning: Using an implicitly registered datetime converter for a matplotlib plotting method. The converter was registered by pandas on import. Future versions of pandas will require you to explicitly register matplotlib converters.\n",
      "\n",
      "To register the converters:\n",
      "\t>>> from pandas.plotting import register_matplotlib_converters\n",
      "\t>>> register_matplotlib_converters()\n",
      "  warnings.warn(msg, FutureWarning)\n"
     ]
    },
    {
     "data": {
      "image/png": "[encoded data removed]",
      "text/plain": [
       "<Figure size 432x288 with 1 Axes>"
      ]
     },
     "metadata": {
      "needs_background": "light"
     },
     "output_type": "display_data"
    }
   ],
   "source": [
    "plt.plot(df['Close'])\n",
    "plt.show()"
   ]
  },
  {
   "cell_type": "code",
   "execution_count": 5,
   "metadata": {},
   "outputs": [],
   "source": [
    "df['S_100'] = df['Close'].rolling(window=100).mean()\n",
    "df['S_200'] = df['Close'].rolling(window=20).mean()\n",
    "df['RSI'] = ta.RSI(np.array(df['Close']), timeperiod =10) \n",
    "df=df.dropna()"
   ]
  },
  {
   "cell_type": "code",
   "execution_count": 6,
   "metadata": {},
   "outputs": [
    {
     "data": {
      "text/html": [
       "<div>\n",
       "<style scoped>\n",
       "    .dataframe tbody tr th:only-of-type {\n",
       "        vertical-align: middle;\n",
       "    }\n",
       "\n",
       "    .dataframe tbody tr th {\n",
       "        vertical-align: top;\n",
       "    }\n",
       "\n",
       "    .dataframe thead th {\n",
       "        text-align: right;\n",
       "    }\n",
       "</style>\n",
       "<table border=\"1\" class=\"dataframe\">\n",
       "  <thead>\n",
       "    <tr style=\"text-align: right;\">\n",
       "      <th></th>\n",
       "      <th>High</th>\n",
       "      <th>Low</th>\n",
       "      <th>Open</th>\n",
       "      <th>Close</th>\n",
       "      <th>Volume</th>\n",
       "      <th>S_100</th>\n",
       "      <th>S_200</th>\n",
       "      <th>RSI</th>\n",
       "    </tr>\n",
       "    <tr>\n",
       "      <th>Date</th>\n",
       "      <th></th>\n",
       "      <th></th>\n",
       "      <th></th>\n",
       "      <th></th>\n",
       "      <th></th>\n",
       "      <th></th>\n",
       "      <th></th>\n",
       "      <th></th>\n",
       "    </tr>\n",
       "  </thead>\n",
       "  <tbody>\n",
       "    <tr>\n",
       "      <td>2008-02-20</td>\n",
       "      <td>134.459545</td>\n",
       "      <td>131.492727</td>\n",
       "      <td>133.041364</td>\n",
       "      <td>133.162274</td>\n",
       "      <td>2.687100e+08</td>\n",
       "      <td>121.940044</td>\n",
       "      <td>142.935401</td>\n",
       "      <td>37.596318</td>\n",
       "    </tr>\n",
       "    <tr>\n",
       "      <td>2008-03-21</td>\n",
       "      <td>136.096000</td>\n",
       "      <td>134.238000</td>\n",
       "      <td>135.085001</td>\n",
       "      <td>135.191501</td>\n",
       "      <td>1.926250e+08</td>\n",
       "      <td>121.865203</td>\n",
       "      <td>143.260453</td>\n",
       "      <td>41.344807</td>\n",
       "    </tr>\n",
       "    <tr>\n",
       "      <td>2008-04-20</td>\n",
       "      <td>140.893808</td>\n",
       "      <td>139.153333</td>\n",
       "      <td>140.019048</td>\n",
       "      <td>140.101906</td>\n",
       "      <td>1.693512e+08</td>\n",
       "      <td>121.876966</td>\n",
       "      <td>143.685119</td>\n",
       "      <td>49.500765</td>\n",
       "    </tr>\n",
       "    <tr>\n",
       "      <td>2008-05-20</td>\n",
       "      <td>138.909999</td>\n",
       "      <td>136.927144</td>\n",
       "      <td>138.079525</td>\n",
       "      <td>137.717619</td>\n",
       "      <td>2.218824e+08</td>\n",
       "      <td>121.802201</td>\n",
       "      <td>143.773091</td>\n",
       "      <td>46.046439</td>\n",
       "    </tr>\n",
       "    <tr>\n",
       "      <td>2008-06-19</td>\n",
       "      <td>128.606190</td>\n",
       "      <td>126.100000</td>\n",
       "      <td>127.548095</td>\n",
       "      <td>127.147619</td>\n",
       "      <td>3.300919e+08</td>\n",
       "      <td>121.609942</td>\n",
       "      <td>143.185130</td>\n",
       "      <td>34.267469</td>\n",
       "    </tr>\n",
       "  </tbody>\n",
       "</table>\n",
       "</div>"
      ],
      "text/plain": [
       "                  High         Low        Open       Close        Volume  \\\n",
       "Date                                                                       \n",
       "2008-02-20  134.459545  131.492727  133.041364  133.162274  2.687100e+08   \n",
       "2008-03-21  136.096000  134.238000  135.085001  135.191501  1.926250e+08   \n",
       "2008-04-20  140.893808  139.153333  140.019048  140.101906  1.693512e+08   \n",
       "2008-05-20  138.909999  136.927144  138.079525  137.717619  2.218824e+08   \n",
       "2008-06-19  128.606190  126.100000  127.548095  127.147619  3.300919e+08   \n",
       "\n",
       "                 S_100       S_200        RSI  \n",
       "Date                                           \n",
       "2008-02-20  121.940044  142.935401  37.596318  \n",
       "2008-03-21  121.865203  143.260453  41.344807  \n",
       "2008-04-20  121.876966  143.685119  49.500765  \n",
       "2008-05-20  121.802201  143.773091  46.046439  \n",
       "2008-06-19  121.609942  143.185130  34.267469  "
      ]
     },
     "execution_count": 6,
     "metadata": {},
     "output_type": "execute_result"
    }
   ],
   "source": [
    "df.head()"
   ]
  },
  {
   "cell_type": "code",
   "execution_count": 10,
   "metadata": {},
   "outputs": [],
   "source": [
    "X=df.iloc[:,:8]"
   ]
  },
  {
   "cell_type": "code",
   "execution_count": 11,
   "metadata": {},
   "outputs": [],
   "source": [
    "y=np.where(df['Close'].shift(-1)>df['Close'],1,-1)"
   ]
  },
  {
   "cell_type": "code",
   "execution_count": 12,
   "metadata": {},
   "outputs": [],
   "source": [
    "split = int(0.7*len(df))\n",
    "\n",
    "X_train, X_test, y_train, y_test = X[:split], X[split:], y[:split], y[split:]"
   ]
  },
  {
   "cell_type": "code",
   "execution_count": 13,
   "metadata": {},
   "outputs": [
    {
     "name": "stderr",
     "output_type": "stream",
     "text": [
      "C:\\Users\\joaod\\Anaconda3\\lib\\site-packages\\sklearn\\linear_model\\logistic.py:432: FutureWarning: Default solver will be changed to 'lbfgs' in 0.22. Specify a solver to silence this warning.\n",
      "  FutureWarning)\n"
     ]
    }
   ],
   "source": [
    "model=LogisticRegression()\n",
    "model=model.fit(X_train,y_train)"
   ]
  },
  {
   "cell_type": "code",
   "execution_count": 14,
   "metadata": {},
   "outputs": [
    {
     "name": "stdout",
     "output_type": "stream",
     "text": [
      "[[0.45090138 0.54909862]\n",
      " [0.42850441 0.57149559]\n",
      " [0.45626771 0.54373229]\n",
      " [0.4609483  0.5390517 ]\n",
      " [0.43674332 0.56325668]\n",
      " [0.45204575 0.54795425]\n",
      " [0.44513873 0.55486127]\n",
      " [0.44960533 0.55039467]\n",
      " [0.45727509 0.54272491]\n",
      " [0.45657076 0.54342924]\n",
      " [0.45347737 0.54652263]\n",
      " [0.45421783 0.54578217]\n",
      " [0.46066073 0.53933927]\n",
      " [0.4588475  0.5411525 ]\n",
      " [0.46962803 0.53037197]\n",
      " [0.46202608 0.53797392]\n",
      " [0.46194326 0.53805674]\n",
      " [0.46532285 0.53467715]\n",
      " [0.46509168 0.53490832]\n",
      " [0.45012093 0.54987907]\n",
      " [0.44710988 0.55289012]\n",
      " [0.41352982 0.58647018]\n",
      " [0.43664447 0.56335553]\n",
      " [0.44460768 0.55539232]\n",
      " [0.45949715 0.54050285]\n",
      " [0.45626163 0.54373837]\n",
      " [0.46339004 0.53660996]\n",
      " [0.46646078 0.53353922]\n",
      " [0.46356093 0.53643907]\n",
      " [0.43512436 0.56487564]\n",
      " [0.43608275 0.56391725]\n",
      " [0.41837168 0.58162832]\n",
      " [0.43049194 0.56950806]\n",
      " [0.45535987 0.54464013]\n",
      " [0.45503287 0.54496713]\n",
      " [0.46481027 0.53518973]\n",
      " [0.45517187 0.54482813]\n",
      " [0.45791779 0.54208221]\n",
      " [0.47072223 0.52927777]\n",
      " [0.45072578 0.54927422]\n",
      " [0.46218297 0.53781703]\n",
      " [0.45973224 0.54026776]\n",
      " [0.4723789  0.5276211 ]]\n"
     ]
    }
   ],
   "source": [
    "prob=model.predict_proba(X_test)\n",
    "print(prob)"
   ]
  },
  {
   "cell_type": "code",
   "execution_count": 16,
   "metadata": {},
   "outputs": [
    {
     "name": "stdout",
     "output_type": "stream",
     "text": [
      "[1 1 1 1 1 1 1 1 1 1 1 1 1 1 1 1 1 1 1 1 1 1 1 1 1 1 1 1 1 1 1 1 1 1 1 1 1\n",
      " 1 1 1 1 1 1]\n"
     ]
    }
   ],
   "source": [
    "prediction=model.predict(X_test)\n",
    "print(prediction)"
   ]
  },
  {
   "cell_type": "code",
   "execution_count": 17,
   "metadata": {},
   "outputs": [
    {
     "name": "stdout",
     "output_type": "stream",
     "text": [
      "[[ 0 14]\n",
      " [ 0 29]]\n"
     ]
    }
   ],
   "source": [
    "print(metrics.confusion_matrix(y_test, prediction))"
   ]
  },
  {
   "cell_type": "code",
   "execution_count": 19,
   "metadata": {},
   "outputs": [
    {
     "name": "stdout",
     "output_type": "stream",
     "text": [
      "0.6744186046511628\n"
     ]
    }
   ],
   "source": [
    "print(model.score(X_test,y_test))"
   ]
  },
  {
   "cell_type": "code",
   "execution_count": null,
   "metadata": {},
   "outputs": [],
   "source": []
  }
 ],
 "metadata": {
  "kernelspec": {
   "display_name": "Python 3",
   "language": "python",
   "name": "python3"
  },
  "language_info": {
   "codemirror_mode": {
    "name": "ipython",
    "version": 3
   },
   "file_extension": ".py",
   "mimetype": "text/x-python",
   "name": "python",
   "nbconvert_exporter": "python",
   "pygments_lexer": "ipython3",
   "version": "3.7.4"
  }
 },
 "nbformat": 4,
 "nbformat_minor": 2
}
